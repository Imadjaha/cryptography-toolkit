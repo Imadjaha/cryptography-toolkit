{
 "cells": [
  {
   "cell_type": "markdown",
   "id": "5db9a5e9",
   "metadata": {},
   "source": [
    "# DES (Data Encryption Standard)\n",
    "\n",
    "**Overview**  \n",
    "DES is a symmetric-key block cipher published in 1977. It encrypts 64-bit blocks of data using a 56-bit key (the key is stored in 64 bits, with 8 bits used for parity). Although once widely used, DES is now considered obsolete and insecure due to its short key length.\n",
    "\n",
    "---\n",
    "\n",
    "## How It Works\n",
    "\n",
    "1. **Block Splitting:**  \n",
    "   The plaintext message is divided into 64-bit (8-byte) blocks.\n",
    "\n",
    "2. **Feistel Network (16 Rounds):**  \n",
    "   Each block undergoes 16 rounds of processing involving:  \n",
    "   - **Expansion**: Expanding certain bits to match the subkey size.\n",
    "   - **Substitution**: Using S-boxes to replace bits.\n",
    "   - **Permutation**: Rearranging the bits.\n",
    "   - **Key Mixing**: Combining with a 56-bit key-derived subkey.\n",
    "   \n",
    "3. **Final Permutation:**  \n",
    "   A final rearrangement produces the ciphertext block.\n",
    "\n",
    "4. **Decryption:**  \n",
    "   The decryption process is the reverse of encryption, using the subkeys in reverse order.\n",
    "\n",
    "---\n",
    "\n",
    "## Communication Flow\n",
    "\n",
    "```text\n",
    "Alice                        Bob                        Eve\n",
    "-----                        ---                        ---\n",
    "Message m\n",
    "  |    Encrypt with key K  --->   Ciphertext C\n",
    "                              |   Decrypt with same key K\n",
    "                              V\n",
    "                          Message m\n",
    "```\n",
    "\n",
    "- **Note:** Although Eve sees the ciphertext C, without key K, decryption is not possible. However, DES’s short key allows attackers to brute-force the key within hours.\n",
    "\n",
    "---\n",
    "\n",
    "## Key Parameters\n",
    "\n",
    "- **Block Size:** 64 bits (8 bytes)\n",
    "- **Effective Key Size:** 56 bits (the remaining 8 bits serve as parity)\n",
    "- **Modes of Operation:**  \n",
    "  DES must be used with a mode of operation (like ECB, CBC, CTR, etc.) to securely encrypt data longer than 64 bits.\n",
    "\n",
    "---\n",
    "\n",
    "## Historical Use\n",
    "\n",
    "- **Banking Systems:**  \n",
    "  Previously used in ATM PIN encryption.\n",
    "- **Legacy Systems:**  \n",
    "  Replaced by Triple DES (3DES) and then by AES for modern applications.\n",
    "\n",
    "---\n",
    "\n",
    "## Security Notes\n",
    "\n",
    "- **Insecure Today:**  \n",
    "  The 56-bit effective key is vulnerable to brute-force and differential cryptanalysis.\n",
    "- **Usage Recommendation:**  \n",
    "  DES should only be used for historical studies or in very constrained, non-critical applications.\n",
    "- **Modern Alternative:**  \n",
    "  **AES (Advanced Encryption Standard)** is the recommended replacement for securing data.\n"
   ]
  },
  {
   "cell_type": "code",
   "execution_count": null,
   "id": "e3a04b39",
   "metadata": {},
   "outputs": [
    {
     "name": "stdout",
     "output_type": "stream",
     "text": [
      "Ciphertext (hex): a5d47967802a0e44\n",
      "Recovered plaintext: b'hello123'\n"
     ]
    }
   ],
   "source": [
    "from Crypto.Cipher import DES\n",
    "from Crypto.Random import get_random_bytes\n",
    "\n",
    "# --- Key (must be 8 bytes = 64 bits, with 56 bits effective) ---\n",
    "key = get_random_bytes(8)   # not secure, just demo\n",
    "cipher = DES.new(key, DES.MODE_ECB)  # ECB mode for demo only\n",
    "\n",
    "# --- Message (must be multiple of 8 bytes in ECB/ CBC) ---\n",
    "msg = b\"hello123\"   # exactly 8 bytes\n",
    "\n",
    "# --- Encrypt ---\n",
    "ct = cipher.encrypt(msg)\n",
    "print(\"Ciphertext (hex):\", ct.hex())\n",
    "\n",
    "# --- Decrypt ---\n",
    "cipher2 = DES.new(key, DES.MODE_ECB)\n",
    "pt = cipher2.decrypt(ct)\n",
    "print(\"Recovered plaintext:\", pt)\n"
   ]
  }
 ],
 "metadata": {
  "kernelspec": {
   "display_name": ".venv",
   "language": "python",
   "name": "python3"
  },
  "language_info": {
   "codemirror_mode": {
    "name": "ipython",
    "version": 3
   },
   "file_extension": ".py",
   "mimetype": "text/x-python",
   "name": "python",
   "nbconvert_exporter": "python",
   "pygments_lexer": "ipython3",
   "version": "3.12.7"
  }
 },
 "nbformat": 4,
 "nbformat_minor": 5
}
