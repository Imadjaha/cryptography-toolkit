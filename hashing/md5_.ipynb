{
 "cells": [
  {
   "cell_type": "markdown",
   "id": "f658ea1f",
   "metadata": {},
   "source": [
    "# MD5 (Message Digest Algorithm 5)\n",
    "\n",
    "**What It Is**\n",
    "\n",
    "MD5 is a cryptographic hash function designed in 1991 by Ron Rivest. It takes an input of any length and produces a fixed 128-bit (16-byte) hash value—commonly represented as 32 hexadecimal characters. Although it was widely used for integrity checks in the past, MD5 is now considered broken and insecure.\n",
    "\n",
    "---\n",
    "\n",
    "**How It Works**\n",
    "\n",
    "- **Chunking:** The input message is split into 512-bit chunks.\n",
    "- **Compression:** Each chunk is processed with a compression function that uses a series of bitwise operations.\n",
    "- **Output:** The final result is a 128-bit digest.\n",
    "\n",
    "---\n",
    "\n",
    "**Communication Example**\n",
    "\n",
    "```text\n",
    "Alice                        Bob                         Eve\n",
    "-----                        ---                         ---\n",
    "Message m\n",
    "  | -- Compute MD5 -->        Hash h\n",
    "                              | -- Compare received hash\n",
    "                              V\n",
    "                          If h matches → data not changed\n",
    "```\n",
    "\n",
    "*Note:* Eve can create a different message (m') that produces the same hash (collision), undermining the integrity check.\n",
    "\n",
    "---\n",
    "\n",
    "**Parameters**\n",
    "\n",
    "- **Input:** Any-length message  \n",
    "- **Output:** 128-bit digest (displayed as 32 hexadecimal characters)\n",
    "\n",
    "---\n",
    "\n",
    "**Security Notes**\n",
    "\n",
    "- **Collision Resistance Broken:**  \n",
    "  It is possible to generate two different messages that produce the same MD5 hash x != y => H(x) = H(y).\n",
    "- **Vulnerable to Attacks:**  \n",
    "  MD5 is vulnerable to chosen-prefix attacks and should not be used for security-critical applications.\n",
    "- **Usage Recommendation:**  \n",
    "  Do not use MD5 for digital signatures, password hashing, or integrity-checking in secure systems. Use SHA-256 or a stronger hash function instead.\n",
    "\n",
    "---\n",
    "\n",
    "**Historical Usage**\n",
    "\n",
    "- **Legacy Password Storage:**  \n",
    "  Once used, but now considered insecure.\n",
    "- **File Integrity Checks:**  \n",
    "  Occasionally used for non-cryptographic checksums, but not reliable for security purposes.\n",
    "- **Digital Certificates:**  \n",
    "  Previously used, but now"
   ]
  },
  {
   "cell_type": "code",
   "execution_count": 1,
   "id": "2a4a16de",
   "metadata": {},
   "outputs": [
    {
     "name": "stdout",
     "output_type": "stream",
     "text": [
      "Message: b'hello world'\n",
      "MD5 digest: 5eb63bbbe01eeed093cb22bb8f5acdc3\n",
      "Repeat hash same?: True\n",
      "Different input digest: 39d11ab1c3c6c9eab3f5b3675f438dbf\n"
     ]
    }
   ],
   "source": [
    "import hashlib\n",
    "\n",
    "# --- Hash a simple message ---\n",
    "message = b\"hello world\"\n",
    "digest = hashlib.md5(message).hexdigest()\n",
    "\n",
    "print(\"Message:\", message)\n",
    "print(\"MD5 digest:\", digest)\n",
    "\n",
    "# --- Same input → same output ---\n",
    "digest2 = hashlib.md5(message).hexdigest()\n",
    "print(\"Repeat hash same?:\", digest == digest2)\n",
    "\n",
    "# --- Different message ---\n",
    "message2 = b\"hello World\"\n",
    "digest3 = hashlib.md5(message2).hexdigest()\n",
    "print(\"Different input digest:\", digest3)\n"
   ]
  }
 ],
 "metadata": {
  "kernelspec": {
   "display_name": ".venv",
   "language": "python",
   "name": "python3"
  },
  "language_info": {
   "codemirror_mode": {
    "name": "ipython",
    "version": 3
   },
   "file_extension": ".py",
   "mimetype": "text/x-python",
   "name": "python",
   "nbconvert_exporter": "python",
   "pygments_lexer": "ipython3",
   "version": "3.12.7"
  }
 },
 "nbformat": 4,
 "nbformat_minor": 5
}
