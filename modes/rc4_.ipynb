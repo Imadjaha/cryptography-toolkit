{
 "cells": [
  {
   "cell_type": "markdown",
   "id": "a0632b08",
   "metadata": {},
   "source": [
    "# RC4 (Rivest Cipher 4)\n",
    "\n",
    "RC4 is a well-known stream cipher designed by Ron Rivest in 1987. It was once widely used in protocols like WEP and early TLS/SSL. However, due to significant vulnerabilities—especially biases in its keystream—RC4 is now considered completely **insecure** for modern use.\n",
    "\n",
    "---\n",
    "\n",
    "## Overview\n",
    "\n",
    "- **Type:** Stream cipher  \n",
    "- **Operation:** Generates a pseudorandom keystream that is XORed with the plaintext to produce the ciphertext.  \n",
    "- **Symmetry:** Encryption and decryption are identical (the same function can be used for both).\n",
    "\n",
    "---\n",
    "\n",
    "## How RC4 Works\n",
    "\n",
    "1. **Key-Scheduling Algorithm (KSA):**\n",
    "   - Initializes a state array `S` of 256 bytes.\n",
    "   - The state array is permuted using the secret key.\n",
    "2. **Pseudo-Random Generation Algorithm (PRGA):**\n",
    "   - Continuously generates keystream bytes by further modifying the state array.\n",
    "3. **Encryption / Decryption:**\n",
    "   - The plaintext is XORed with the keystream, block for block.\n",
    "   - Due to the properties of XOR, the same process is used for decryption.\n",
    "\n",
    "---\n",
    "\n",
    "## RC4 Parameters\n",
    "\n",
    "- **Key (K):** Variable length from 1 to 256 bytes (often 16 bytes in practice).\n",
    "- **State Array (S):** A permutation of the numbers 0–255 (256 bytes).\n",
    "- **Keystream:** Generated continuously, with one byte used per plaintext byte.\n",
    "\n",
    "---\n",
    "\n",
    "## Security Notes\n",
    "\n",
    "- **Insecure by Modern Standards:**  \n",
    "  RC4 exhibits key/IV biases and state leaks that can lead to plaintext recovery.\n",
    "- **Historical Usage:**  \n",
    "  Formerly used in WEP (Wi-Fi) and early versions of TLS/SSL, but now deprecated.\n",
    "- **Educational Value:**  \n",
    "  Though insecure, RC4 remains useful for teaching the concepts of stream ciphers.\n"
   ]
  },
  {
   "cell_type": "code",
   "execution_count": 2,
   "id": "0018b54f",
   "metadata": {},
   "outputs": [
    {
     "name": "stdout",
     "output_type": "stream",
     "text": [
      "Ciphertext (hex): f7ebe8266cc5fd215b8c22f7a246155f11247d40f3165d47fcb949\n",
      "Recovered: b'RC4: this is a test message'\n"
     ]
    }
   ],
   "source": [
    "def rc4(key: bytes, data: bytes) -> bytes:\n",
    "    # Key-scheduling algorithm (KSA)\n",
    "    S = list(range(256))\n",
    "    j = 0\n",
    "    for i in range(256):\n",
    "        j = (j + S[i] + key[i % len(key)]) % 256\n",
    "        S[i], S[j] = S[j], S[i]\n",
    "    \n",
    "    # Pseudo-random generation algorithm (PRGA)\n",
    "    i = j = 0\n",
    "    out = []\n",
    "    for byte in data:\n",
    "        i = (i + 1) % 256\n",
    "        j = (j + S[i]) % 256\n",
    "        S[i], S[j] = S[j], S[i]\n",
    "        K = S[(S[i] + S[j]) % 256]\n",
    "        out.append(byte ^ K)\n",
    "    return bytes(out)\n",
    "\n",
    "# --- Example ---\n",
    "key = b\"secretkey\"\n",
    "plaintext = b\"RC4: this is a test message\"\n",
    "\n",
    "# Encrypt\n",
    "ciphertext = rc4(key, plaintext)\n",
    "print(\"Ciphertext (hex):\", ciphertext.hex())\n",
    "\n",
    "# Decrypt (same function!)\n",
    "recovered = rc4(key, ciphertext)\n",
    "print(\"Recovered:\", recovered)\n"
   ]
  }
 ],
 "metadata": {
  "kernelspec": {
   "display_name": ".venv",
   "language": "python",
   "name": "python3"
  },
  "language_info": {
   "codemirror_mode": {
    "name": "ipython",
    "version": 3
   },
   "file_extension": ".py",
   "mimetype": "text/x-python",
   "name": "python",
   "nbconvert_exporter": "python",
   "pygments_lexer": "ipython3",
   "version": "3.12.7"
  }
 },
 "nbformat": 4,
 "nbformat_minor": 5
}
