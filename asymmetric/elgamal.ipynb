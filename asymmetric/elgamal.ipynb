{
 "cells": [
  {
   "cell_type": "markdown",
   "id": "33ee6177",
   "metadata": {},
   "source": [
    "# ElGamal Encryption\n",
    "\n",
    "ElGamal is a public-key encryption scheme based on Diffie–Hellman. It is **probabilistic**, meaning that encrypting the same message twice produces different ciphertexts for enhanced privacy.\n",
    "\n",
    "## Overview\n",
    "\n",
    "- **Public Parameters:**  \n",
    "  - **Prime (p):** A large prime number.  \n",
    "  - **Generator (g):** A generator of the multiplicative group modulo p.\n",
    "\n",
    "- **Key Generation (Receiver):**  \n",
    "  - **Private Key (x):** A random number in the range 1 to p-2.  \n",
    "  - **Public Key (y):** Computed as `y = g^x mod p`.\n",
    "\n",
    "- **Encryption (Sender, for message m):**  \n",
    "  1. Choose a fresh random number **k** (never reuse it).  \n",
    "  2. Compute `c1 = g^k mod p`.  \n",
    "  3. Compute `s = y^k mod p`.  \n",
    "  4. Compute `c2 = m * s mod p`.  \n",
    "  5. The ciphertext is the pair `(c1, c2)`.\n",
    "\n",
    "- **Decryption (Receiver):**  \n",
    "  1. Compute `s = c1^x mod p`.  \n",
    "  2. Recover the message using the modular inverse of s:  \n",
    "     `m = c2 * s⁻¹ mod p`.\n",
    "\n",
    "## Parameters Summary\n",
    "\n",
    "- **p:** A large prime (public).  \n",
    "- **g:** A generator modulo p (public).  \n",
    "- **x:** The private key (secret).  \n",
    "- **y = g^x:** The public key (public).  \n",
    "- **k:** A fresh random per-encryption (must never be reused).\n",
    "\n",
    "## Security Notes\n",
    "\n",
    "- **Fresh k:** Reusing k across encryptions can lead to exposure of the private key.\n",
    "- **Message Encoding:** The message m must be an integer in the range 1 to p-1. For arbitrary data, use appropriate encoding, padding, and consider a hybrid encryption scheme.\n",
    "- **Malleability:** ElGamal does not provide integrity. To safeguard against tampering, combine with a Message Authentication Code (MAC) or use an Authenticated Encryption with Associated Data (AEAD) scheme.\n",
    "- **Production Tip:** For practical systems, prefer elliptic-curve variants (EC ElGamal) or hybrid approaches available in standard cryptographic libraries."
   ]
  },
  {
   "cell_type": "code",
   "execution_count": 1,
   "id": "6c9f353d",
   "metadata": {},
   "outputs": [
    {
     "name": "stdout",
     "output_type": "stream",
     "text": [
      "Public key (p, g, y): (467, 2, 460)\n",
      "Private key x: 381\n",
      "Ciphertext (c1, c2): (168, 290)\n",
      "Recovered message: 123\n"
     ]
    }
   ],
   "source": [
    "import secrets\n",
    "\n",
    "# --- Public parameters (tiny, INSECURE example) ---\n",
    "# In real life, p must be very large (e.g., 2048+ bits)\n",
    "p = 467      # prime\n",
    "g = 2        # generator modulo p\n",
    "\n",
    "# --- Key generation (receiver) ---\n",
    "x = secrets.randbelow(p - 2) + 1      # private key in [1, p-2]\n",
    "y = pow(g, x, p)                      # public key\n",
    "\n",
    "print(\"Public key (p, g, y):\", (p, g, y))\n",
    "print(\"Private key x:\", x)\n",
    "\n",
    "# --- Helper: modular inverse using Fermat's little theorem (since p is prime) ---\n",
    "def inv_mod(a, p):\n",
    "    # returns a^{-1} mod p\n",
    "    return pow(a, p - 2, p)\n",
    "\n",
    "# --- Encrypt (sender) ---\n",
    "# Message as an integer 1..p-1. For demo, just pick a small int < p\n",
    "m = 123\n",
    "assert 1 <= m < p\n",
    "\n",
    "k = secrets.randbelow(p - 2) + 1      # fresh random per encryption\n",
    "c1 = pow(g, k, p)\n",
    "s  = pow(y, k, p)                      # shared mask\n",
    "c2 = (m * s) % p\n",
    "ciphertext = (c1, c2)\n",
    "\n",
    "print(\"Ciphertext (c1, c2):\", ciphertext)\n",
    "\n",
    "# --- Decrypt (receiver) ---\n",
    "c1, c2 = ciphertext\n",
    "s = pow(c1, x, p)\n",
    "m_recovered = (c2 * inv_mod(s, p)) % p\n",
    "\n",
    "print(\"Recovered message:\", m_recovered)\n",
    "assert m_recovered == m\n"
   ]
  }
 ],
 "metadata": {
  "kernelspec": {
   "display_name": ".venv",
   "language": "python",
   "name": "python3"
  },
  "language_info": {
   "codemirror_mode": {
    "name": "ipython",
    "version": 3
   },
   "file_extension": ".py",
   "mimetype": "text/x-python",
   "name": "python",
   "nbconvert_exporter": "python",
   "pygments_lexer": "ipython3",
   "version": "3.12.7"
  }
 },
 "nbformat": 4,
 "nbformat_minor": 5
}
