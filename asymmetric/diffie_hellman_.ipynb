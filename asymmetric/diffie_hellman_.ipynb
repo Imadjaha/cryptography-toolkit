{
 "cells": [
  {
   "cell_type": "markdown",
   "id": "b2ea31d6",
   "metadata": {},
   "source": [
    "# Diffie–Hellman (DH) Key Exchange\n",
    "\n",
    "## What it is\n",
    "- Lets two parties (Alice and Bob) agree on a shared secret over an **insecure channel**.\n",
    "- The secret itself is never sent; only public-looking values are exchanged.\n",
    "- The shared secret can be turned into encryption keys.\n",
    "\n",
    "## How it works\n",
    "1. Agree on a large prime `p` and a generator `g`.\n",
    "2. Alice picks a private `a`, sends `A = g^a mod p`.\n",
    "3. Bob picks a private `b`, sends `B = g^b mod p`.\n",
    "4. Alice computes `S = B^a mod p`.\n",
    "5. Bob computes `S = A^b mod p`.\n",
    "6. Both obtain the same `S` (the shared secret).\n",
    "\n",
    "## Parameters\n",
    "- `p`: large prime number\n",
    "- `g`: generator modulo `p`\n",
    "- `a`, `b`: random private exponents\n",
    "- `A`, `B`: public values shared with the other side\n",
    "- `S`: final shared secret (must match)\n",
    "\n",
    "## DH-Problem\n",
    "Even Eve can intercept A and B, but cannot compute S without knowing a or b, as calculation of a and b is based on the discrete logarithm problem, which is computationally hard and for large bits number nearly impossible to determine.\n",
    "\n",
    "## Where it’s used\n",
    "- HTTPS (TLS)\n",
    "- SSH\n",
    "- Messaging apps (Signal, WhatsApp)\n",
    "\n",
    "> Note: DH alone does not authenticate peers; add authentication to prevent MITM attacks."
   ]
  },
  {
   "cell_type": "code",
   "execution_count": 1,
   "id": "b299ae14",
   "metadata": {},
   "outputs": [
    {
     "name": "stdout",
     "output_type": "stream",
     "text": [
      "Alice's private key: 12\n",
      "Bob's private key: 8\n",
      "Alice's secret: 16\n",
      "Bob's secret:   16\n"
     ]
    }
   ],
   "source": [
    "import secrets\n",
    "\n",
    "p = 23   # small toy example (not secure in real life)\n",
    "g = 5\n",
    "\n",
    "# Alice's private and public keys\n",
    "a = secrets.randbelow(p-2) + 2\n",
    "print(f\"Alice's private key: {a}\")\n",
    "A = pow(g, a, p)\n",
    "\n",
    "# Bob's private and public keys\n",
    "b = secrets.randbelow(p-2) + 2\n",
    "print(f\"Bob's private key: {b}\")\n",
    "B = pow(g, b, p)\n",
    "\n",
    "# Shared secret (must match)\n",
    "S_alice = pow(B, a, p)\n",
    "S_bob   = pow(A, b, p)\n",
    "\n",
    "print(\"Alice's secret:\", S_alice)\n",
    "print(\"Bob's secret:  \", S_bob)\n"
   ]
  }
 ],
 "metadata": {
  "kernelspec": {
   "display_name": "Python 3",
   "language": "python",
   "name": "python3"
  },
  "language_info": {
   "codemirror_mode": {
    "name": "ipython",
    "version": 3
   },
   "file_extension": ".py",
   "mimetype": "text/x-python",
   "name": "python",
   "nbconvert_exporter": "python",
   "pygments_lexer": "ipython3",
   "version": "3.12.7"
  }
 },
 "nbformat": 4,
 "nbformat_minor": 5
}
